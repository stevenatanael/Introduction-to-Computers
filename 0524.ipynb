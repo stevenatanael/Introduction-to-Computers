{
  "cells": [
    {
      "cell_type": "markdown",
      "metadata": {
        "id": "view-in-github",
        "colab_type": "text"
      },
      "source": [
        "<a href=\"https://colab.research.google.com/github/stevenatanael/Introduction-to-Computers/blob/main/0524.ipynb\" target=\"_parent\"><img src=\"https://colab.research.google.com/assets/colab-badge.svg\" alt=\"Open In Colab\"/></a>"
      ]
    },
    {
      "cell_type": "code",
      "execution_count": null,
      "metadata": {
        "colab": {
          "base_uri": "https://localhost:8080/"
        },
        "id": "5tfDMALEbgGr",
        "outputId": "53073f00-89c0-4646-c662-06807735e4fd"
      },
      "outputs": [
        {
          "name": "stdout",
          "output_type": "stream",
          "text": [
            "[0, 1, 2, 3, 4, 5, 6, 7, 8]\n"
          ]
        }
      ],
      "source": [
        "x=[]\n",
        "for i in range(0,9):\n",
        "  x.append(i)\n",
        "print(x)"
      ]
    },
    {
      "cell_type": "code",
      "execution_count": 8,
      "metadata": {
        "id": "rN2dsxgwbkHw",
        "colab": {
          "base_uri": "https://localhost:8080/"
        },
        "outputId": "ad1739b0-1dc0-4000-b742-9557283fc16b"
      },
      "outputs": [
        {
          "output_type": "stream",
          "name": "stdout",
          "text": [
            "[1, 2, 3, 4, 5, 6, 7, 8, 9]\n"
          ]
        }
      ],
      "source": [
        "x=[]\n",
        "for i in range(1,10):\n",
        "  x.append(i)\n",
        "print(x)"
      ]
    },
    {
      "cell_type": "code",
      "execution_count": 9,
      "metadata": {
        "id": "o6W7R_UObl6e",
        "colab": {
          "base_uri": "https://localhost:8080/"
        },
        "outputId": "2cbe9014-46ea-420a-c65d-429cb4a1d149"
      },
      "outputs": [
        {
          "output_type": "stream",
          "name": "stdout",
          "text": [
            "[1, 3, 5, 7, 9]\n"
          ]
        }
      ],
      "source": [
        "x=[]\n",
        "for i in range(1,10,2):\n",
        "  x.append(i)\n",
        "print(x)"
      ]
    },
    {
      "cell_type": "code",
      "execution_count": 10,
      "metadata": {
        "id": "b9poKALoboMA",
        "colab": {
          "base_uri": "https://localhost:8080/"
        },
        "outputId": "4f476b3b-340e-4db0-caf7-8c1ed9f8359a"
      },
      "outputs": [
        {
          "output_type": "stream",
          "name": "stdout",
          "text": [
            "[10, 8, 6, 4, 2]\n"
          ]
        }
      ],
      "source": [
        "x=[]\n",
        "for i in range(10,1,-2):\n",
        "  x.append(i)\n",
        "print(x)"
      ]
    },
    {
      "cell_type": "code",
      "execution_count": null,
      "metadata": {
        "colab": {
          "background_save": true
        },
        "id": "RM3RbRPTbrDh",
        "outputId": "6a7c7216-02c6-44c4-e844-140b1734aa37"
      },
      "outputs": [
        {
          "name": "stdout",
          "output_type": "stream",
          "text": [
            "0 1 2 3 4 5 "
          ]
        }
      ],
      "source": [
        "x=int(input(\"請輸入一個正整數\"))\n",
        "for i in range(0,x+1):\n",
        "  print(i,end=\" \")"
      ]
    },
    {
      "cell_type": "code",
      "execution_count": 4,
      "metadata": {
        "id": "Ggt9jy1DbtCF",
        "colab": {
          "base_uri": "https://localhost:8080/"
        },
        "outputId": "1b177bcf-d23a-4d75-de5c-fb2de212aff0"
      },
      "outputs": [
        {
          "output_type": "stream",
          "name": "stdout",
          "text": [
            "請輸入一個正整數：5\n",
            "1到5的整數和為：15\n"
          ]
        }
      ],
      "source": [
        "x=int(input(\"請輸入一個正整數：\"))\n",
        "y=0\n",
        "for i in range (1,x+1):\n",
        "  y+=i\n",
        "print(\"1到\"+str(x)+\"的整數和為：\"+str(y))"
      ]
    },
    {
      "cell_type": "code",
      "execution_count": null,
      "metadata": {
        "colab": {
          "background_save": true
        },
        "id": "IIn5dcvzbuFC",
        "outputId": "eb10b120-681b-4d83-8fb3-8ba929076770"
      },
      "outputs": [
        {
          "name": "stdout",
          "output_type": "stream",
          "text": [
            "1到10的整數和為：1\n",
            "1到10的整數和為：3\n",
            "1到10的整數和為：6\n",
            "1到10的整數和為：10\n",
            "1到10的整數和為：15\n",
            "1到10的整數和為：21\n",
            "1到10的整數和為：28\n",
            "1到10的整數和為：36\n",
            "1到10的整數和為：45\n",
            "1到10的整數和為：55\n"
          ]
        }
      ],
      "source": [
        "x=int(input(\"請輸入一個正整數：\"))\n",
        "y=0\n",
        "for i  in range(1,x+1):\n",
        "  y=0\n",
        "  for ii in range (1,i+1):\n",
        "    y+=ii\n",
        "  print(\"1到\"+str(x)+\"的整數和為：\"+str(y))\n",
        "     "
      ]
    }
  ],
  "metadata": {
    "colab": {
      "provenance": [],
      "authorship_tag": "ABX9TyPKwAzlfNQNbTaRTarKM4FL",
      "include_colab_link": true
    },
    "kernelspec": {
      "display_name": "Python 3",
      "name": "python3"
    },
    "language_info": {
      "name": "python"
    }
  },
  "nbformat": 4,
  "nbformat_minor": 0
}